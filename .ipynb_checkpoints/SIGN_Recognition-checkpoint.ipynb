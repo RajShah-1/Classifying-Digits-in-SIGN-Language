{
 "cells": [
  {
   "cell_type": "markdown",
   "metadata": {},
   "source": [
    "### Importing Libraries"
   ]
  },
  {
   "cell_type": "code",
   "execution_count": 1,
   "metadata": {},
   "outputs": [
    {
     "name": "stderr",
     "output_type": "stream",
     "text": [
      "Using TensorFlow backend.\n"
     ]
    }
   ],
   "source": [
    "import tensorflow as tf\n",
    "\n",
    "from keras.preprocessing.image import ImageDataGenerator\n",
    "from keras.models import Sequential\n",
    "from keras.layers import MaxPooling2D\n",
    "from keras.layers import Convolution2D\n",
    "from keras.layers import Dense\n",
    "from keras.layers import Flatten\n",
    "\n",
    "import matplotlib.pyplot as plt\n",
    "import numpy as np"
   ]
  },
  {
   "cell_type": "markdown",
   "metadata": {},
   "source": [
    "### Generate additional data by transforming available data\n",
    "- Used ImageDataGenerator to create additional data by modifying available data from the train set\n",
    "- For each example in train set 5 more examples are created"
   ]
  },
  {
   "cell_type": "code",
   "execution_count": 2,
   "metadata": {},
   "outputs": [
    {
     "name": "stdout",
     "output_type": "stream",
     "text": [
      "Found 600 images belonging to 6 classes.\n",
      "Found 30 images belonging to 6 classes.\n"
     ]
    }
   ],
   "source": [
    "train_data_gen = ImageDataGenerator(rescale=1./255,\n",
    "                                   shear_range=0.2,\n",
    "                                   zoom_range=0.2,\n",
    "                                   horizontal_flip=True)\n",
    "test_data_gen = ImageDataGenerator(rescale=1./255)\n",
    "\n",
    "train_set = train_data_gen.flow_from_directory('./data/train',\n",
    "                                                 target_size=(64, 64),\n",
    "                                                 batch_size=5,\n",
    "                                                 color_mode='grayscale',\n",
    "                                                 class_mode='categorical')\n",
    "test_set = test_data_gen.flow_from_directory('./data/test',\n",
    "                                                 target_size=(64, 64),\n",
    "                                                 batch_size=5,\n",
    "                                                 color_mode='grayscale',\n",
    "                                                 class_mode='categorical')"
   ]
  },
  {
   "cell_type": "markdown",
   "metadata": {},
   "source": [
    "### Model Defination and Compilation\n",
    "- Model consists of 2 x (CONV->POOL) layers followed by 1 dense layer\n",
    "- As the train data and test data comes from the similar distribution and I am using data-generators variance is not much\n",
    "- ADAM optimizer is used to optimize the categorical_crossentropy loss"
   ]
  },
  {
   "cell_type": "code",
   "execution_count": 3,
   "metadata": {},
   "outputs": [],
   "source": [
    " # Build the model\n",
    "model = Sequential()\n",
    "# 1st Convolution layer followed by max-pooling\n",
    "model.add(Convolution2D(32, (3, 3), input_shape=(64, 64, 1), activation='relu'))\n",
    "model.add(MaxPooling2D(pool_size=(2, 2)))\n",
    "# 2nd Convolution layer followed by max-pooling\n",
    "model.add(Convolution2D(32, (3, 3), activation='relu'))\n",
    "model.add(MaxPooling2D(pool_size=(2, 2)))\n",
    "\n",
    "#Flatten the image to feed it to dese layers\n",
    "model.add(Flatten())\n",
    "\n",
    "#Fully connected layers (1-hidden layer and 1-output layer)\n",
    "model.add(Dense(units=256, activation='relu'))\n",
    "model.add(Dense(units=6, activation='softmax'))\n",
    "\n",
    "#Compile the model with ADAM\n",
    "model.compile(optimizer='adam', loss='categorical_crossentropy', metrics=['accuracy'])"
   ]
  },
  {
   "cell_type": "markdown",
   "metadata": {},
   "source": [
    "### Train the Model\n",
    "- Model is trained on the train_set generated using ImageDataGenerator"
   ]
  },
  {
   "cell_type": "code",
   "execution_count": 4,
   "metadata": {},
   "outputs": [
    {
     "name": "stdout",
     "output_type": "stream",
     "text": [
      "Epoch 1/5\n",
      "600/600 [==============================] - 28s 47ms/step - loss: 0.6151 - accuracy: 0.7520\n",
      "Epoch 2/5\n",
      "600/600 [==============================] - 28s 47ms/step - loss: 0.1634 - accuracy: 0.9430\n",
      "Epoch 3/5\n",
      "600/600 [==============================] - 25s 41ms/step - loss: 0.0716 - accuracy: 0.9800\n",
      "Epoch 4/5\n",
      "600/600 [==============================] - 25s 41ms/step - loss: 0.0545 - accuracy: 0.9793\n",
      "Epoch 5/5\n",
      "600/600 [==============================] - 25s 41ms/step - loss: 0.0297 - accuracy: 0.9887\n"
     ]
    },
    {
     "data": {
      "text/plain": [
       "<keras.callbacks.callbacks.History at 0x28b95bcd860>"
      ]
     },
     "execution_count": 4,
     "metadata": {},
     "output_type": "execute_result"
    }
   ],
   "source": [
    "model.fit_generator(train_set, \n",
    "                   steps_per_epoch=600,\n",
    "                   epochs=5)"
   ]
  },
  {
   "cell_type": "markdown",
   "metadata": {},
   "source": [
    "Model and weights are saved for the future use"
   ]
  },
  {
   "cell_type": "code",
   "execution_count": 5,
   "metadata": {},
   "outputs": [],
   "source": [
    "model.save('sign_recognition_model.model')\n",
    "model.save_weights('model_weights.h5')"
   ]
  },
  {
   "cell_type": "markdown",
   "metadata": {},
   "source": [
    "### Test the Model\n",
    "- Model is tested on the test set\n",
    "- Vary the index between 0 to 4 to test the model on different images"
   ]
  },
  {
   "cell_type": "code",
   "execution_count": 6,
   "metadata": {},
   "outputs": [
    {
     "data": {
      "image/png": "[encoded data removed]",
      "text/plain": [
       "<Figure size 432x288 with 1 Axes>"
      ]
     },
     "metadata": {
      "needs_background": "light"
     },
     "output_type": "display_data"
    },
    {
     "name": "stdout",
     "output_type": "stream",
     "text": [
      "Prediction: 5\n"
     ]
    }
   ],
   "source": [
    "from keras.models import load_model\n",
    "model = load_model('sign_recognition_model.model')\n",
    "predictions = model.predict_generator(test_set)\n",
    "x,y = test_set.next()\n",
    "# choose i between 0 to 4\n",
    "i = 0\n",
    "image = x[i]\n",
    "plt.imshow(image.reshape((64, 64)), cmap=plt.cm.binary)\n",
    "plt.show()\n",
    "print('Prediction: '+str(np.argmax(predictions[i+5])))"
   ]
  },
  {
   "cell_type": "markdown",
   "metadata": {},
   "source": [
    "### Check Performance on the Test-set\n",
    "- Model gives 96.67% accuracy on the test set, which confirms that the model does not have bias/variance issues"
   ]
  },
  {
   "cell_type": "code",
   "execution_count": 7,
   "metadata": {},
   "outputs": [
    {
     "name": "stdout",
     "output_type": "stream",
     "text": [
      "Accuracy on the test-set: 0.9666666388511658\n"
     ]
    }
   ],
   "source": [
    "test_loss, test_acc = model.evaluate_generator(test_set, steps=30)\n",
    "print('Accuracy on the test-set: ' + str(test_acc))"
   ]
  }
 ],
 "metadata": {
  "kernelspec": {
   "display_name": "Python 3",
   "language": "python",
   "name": "python3"
  },
  "language_info": {
   "codemirror_mode": {
    "name": "ipython",
    "version": 3
   },
   "file_extension": ".py",
   "mimetype": "text/x-python",
   "name": "python",
   "nbconvert_exporter": "python",
   "pygments_lexer": "ipython3",
   "version": "3.6.8"
  }
 },
 "nbformat": 4,
 "nbformat_minor": 2
}
